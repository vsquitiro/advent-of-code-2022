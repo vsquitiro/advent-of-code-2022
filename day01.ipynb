{
 "cells": [
  {
   "cell_type": "code",
   "execution_count": 16,
   "metadata": {},
   "outputs": [
    {
     "name": "stdout",
     "output_type": "stream",
     "text": [
      "71023\n"
     ]
    }
   ],
   "source": [
    "# import sys\n",
    "# !{sys.executable} -m pip install requests\n",
    "# import requests\n",
    "\n",
    "import os\n",
    "cwd = os.getcwd()\n",
    "file = cwd + '/inputs/input01a.txt'\n",
    "with open(file, 'r') as text:\n",
    "  lines = text.readlines()\n",
    "\n",
    "  current_count = 0\n",
    "  max_cal = 0\n",
    "  for line in lines:\n",
    "    if line.strip() == \"\":\n",
    "      if current_count > max_cal:\n",
    "        max_cal = current_count\n",
    "      current_count = 0\n",
    "    else:\n",
    "      current_count += int(line.strip())\n",
    "  print(max_cal)"
   ]
  },
  {
   "cell_type": "code",
   "execution_count": 17,
   "metadata": {},
   "outputs": [
    {
     "name": "stdout",
     "output_type": "stream",
     "text": [
      "206289\n"
     ]
    }
   ],
   "source": [
    "import os\n",
    "cwd = os.getcwd()\n",
    "file = cwd + '/inputs/input01a.txt'\n",
    "with open(file, 'r') as text:\n",
    "  lines = text.readlines()\n",
    "\n",
    "  current_count = 0\n",
    "  top_cal = 0\n",
    "  second_cal = 0\n",
    "  third_cal = 0\n",
    "\n",
    "  for line in lines:\n",
    "    if line.strip() == \"\":\n",
    "      if current_count > third_cal:\n",
    "        if current_count > second_cal:\n",
    "          if current_count > top_cal:\n",
    "            third_cal = second_cal\n",
    "            second_cal = top_cal\n",
    "            top_cal = current_count\n",
    "          else:\n",
    "            third_cal = second_cal\n",
    "            second_cal = current_count\n",
    "        else:\n",
    "          third_cal = current_count\n",
    "      current_count = 0\n",
    "    else:\n",
    "      current_count += int(line.strip())\n",
    "  print(top_cal+second_cal+third_cal)"
   ]
  }
 ],
 "metadata": {
  "kernelspec": {
   "display_name": "Python 3.9.6 64-bit",
   "language": "python",
   "name": "python3"
  },
  "language_info": {
   "codemirror_mode": {
    "name": "ipython",
    "version": 3
   },
   "file_extension": ".py",
   "mimetype": "text/x-python",
   "name": "python",
   "nbconvert_exporter": "python",
   "pygments_lexer": "ipython3",
   "version": "3.9.6"
  },
  "orig_nbformat": 4,
  "vscode": {
   "interpreter": {
    "hash": "31f2aee4e71d21fbe5cf8b01ff0e069b9275f58929596ceb00d14d90e3e16cd6"
   }
  }
 },
 "nbformat": 4,
 "nbformat_minor": 2
}
