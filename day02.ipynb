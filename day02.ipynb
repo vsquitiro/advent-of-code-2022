{
 "cells": [
  {
   "cell_type": "code",
   "execution_count": 1,
   "metadata": {},
   "outputs": [
    {
     "name": "stdout",
     "output_type": "stream",
     "text": [
      "11449\n"
     ]
    }
   ],
   "source": [
    "import os\n",
    "cwd = os.getcwd()\n",
    "file = cwd + '/inputs/input02a.txt'\n",
    "with open(file, 'r') as text:\n",
    "  lines = text.readlines()\n",
    "\n",
    "  throwScores = {'A': 1, 'B': 2, 'C': 3, 'X': 1, 'Y': 2, 'Z': 3}\n",
    "  totalScore = 0\n",
    "\n",
    "  for line in lines:\n",
    "    playerThrow = throwScores[line[2]]\n",
    "    opponentThrow = throwScores[line[0]]\n",
    "    if playerThrow - opponentThrow == 0:\n",
    "      totalScore += 3 + playerThrow\n",
    "    elif (playerThrow - opponentThrow % 3) == 1:\n",
    "      totalScore += 6 + playerThrow\n",
    "    else:\n",
    "      totalScore += playerThrow\n",
    "  print(totalScore)"
   ]
  },
  {
   "cell_type": "code",
   "execution_count": null,
   "metadata": {},
   "outputs": [],
   "source": [
    "import os\n",
    "cwd = os.getcwd()\n",
    "file = cwd + '/inputs/input02a.txt'\n",
    "with open(file, 'r') as text:\n",
    "  lines = text.readlines()\n",
    "\n",
    "  throwScores = {'A': 1, 'B': 2, 'C': 3, 'X': 0, 'Y': 3, 'Z': 6}\n",
    "  totalScore = 0\n",
    "\n",
    "  for line in lines:\n",
    "    winCondition = throwScores[line[2]]\n",
    "    opponentThrow = throwScores[line[0]]\n",
    "    totalScore += ((winCondition/3 - 2) + opponentThrow) % 3 + 1 + winCondition\n",
    "  print(totalScore)"
   ]
  }
 ],
 "metadata": {
  "kernelspec": {
   "display_name": "Python 3.9.6 64-bit",
   "language": "python",
   "name": "python3"
  },
  "language_info": {
   "codemirror_mode": {
    "name": "ipython",
    "version": 3
   },
   "file_extension": ".py",
   "mimetype": "text/x-python",
   "name": "python",
   "nbconvert_exporter": "python",
   "pygments_lexer": "ipython3",
   "version": "3.9.6"
  },
  "orig_nbformat": 4,
  "vscode": {
   "interpreter": {
    "hash": "31f2aee4e71d21fbe5cf8b01ff0e069b9275f58929596ceb00d14d90e3e16cd6"
   }
  }
 },
 "nbformat": 4,
 "nbformat_minor": 2
}
