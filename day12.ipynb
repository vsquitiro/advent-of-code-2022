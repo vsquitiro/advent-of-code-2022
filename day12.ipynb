{
 "cells": [
  {
   "cell_type": "code",
   "execution_count": 39,
   "metadata": {},
   "outputs": [
    {
     "name": "stdout",
     "output_type": "stream",
     "text": [
      "520\n"
     ]
    }
   ],
   "source": [
    "import os\n",
    "from collections import defaultdict\n",
    "\n",
    "cwd = os.getcwd()\n",
    "file = cwd + '/inputs/input12.txt'\n",
    "\n",
    "data = open(file).read().splitlines()\n",
    "\n",
    "edges = []\n",
    "start = None\n",
    "goal = None\n",
    "\n",
    "column_length = len(data)\n",
    "row_length = len(data[0])\n",
    "\n",
    "def check_edge(node1, node2):\n",
    "  translated_node2 = None\n",
    "  if node2 == 'S':\n",
    "    node2 = 'a'\n",
    "  elif node2 == 'E':\n",
    "    node2 = 'z'\n",
    "\n",
    "  return ord(node1) + 1 >= ord(node2)\n",
    "\n",
    "# create edges\n",
    "for i in range(column_length):\n",
    "  for j in range(row_length):\n",
    "    node = 'n{}-{}'.format(i,j)\n",
    "    node_value = data[i][j]\n",
    "    if node_value == 'S':\n",
    "      start = node\n",
    "      node_value = 'a'\n",
    "    if node_value == 'E':\n",
    "      goal = node\n",
    "      node_value = 'z'\n",
    "    if j+1 < row_length:\n",
    "      e_neighbor = 'n{}-{}'.format(i,j+1)\n",
    "      e_value = data[i][j+1]\n",
    "      if check_edge(node_value,e_value):\n",
    "        edges.append([node,e_neighbor])\n",
    "    if i+1 < column_length:\n",
    "      s_neighbor = 'n{}-{}'.format(i+1,j)\n",
    "      s_value = data[i+1][j]\n",
    "      if check_edge(node_value,s_value):\n",
    "        edges.append([node,s_neighbor])\n",
    "    if j-1 >= 0:\n",
    "      w_neighbor = 'n{}-{}'.format(i,j-1)\n",
    "      w_value = data[i][j-1]\n",
    "      if check_edge(node_value,w_value):\n",
    "        edges.append([node,w_neighbor])\n",
    "    if i-1 >= 0:\n",
    "      n_neighbor = 'n{}-{}'.format(i-1,j)\n",
    "      n_value = data[i-1][j]\n",
    "      if check_edge(node_value,n_value):\n",
    "        edges.append([node,n_neighbor])\n",
    "\n",
    "# create graph, thanks geekforgeeks.org\n",
    "graph = defaultdict(list)\n",
    "\n",
    "for edge in edges:\n",
    "  a, b = edge[0], edge[1]\n",
    "  graph[a].append(b)\n",
    "\n",
    "def find_path(graph, start, goal):\n",
    "  explored = []\n",
    "  queue = [[start]]\n",
    "  if start == goal:\n",
    "    return 0\n",
    "\n",
    "  while queue:\n",
    "    path = queue.pop(0)\n",
    "    node = path[-1]\n",
    "\n",
    "    if node not in explored:\n",
    "      neighbors = graph[node]\n",
    "      for neighbor in neighbors:\n",
    "        new_path = list(path)\n",
    "        new_path.append(neighbor)\n",
    "        queue.append(new_path)\n",
    "\n",
    "        if neighbor == goal:\n",
    "          return len(new_path) - 1\n",
    "      explored.append(node)\n",
    "  return 'There is no path to connect these points'\n",
    "\n",
    "print(find_path(graph, start, goal))"
   ]
  }
 ],
 "metadata": {
  "kernelspec": {
   "display_name": "Python 3",
   "language": "python",
   "name": "python3"
  },
  "language_info": {
   "codemirror_mode": {
    "name": "ipython",
    "version": 3
   },
   "file_extension": ".py",
   "mimetype": "text/x-python",
   "name": "python",
   "nbconvert_exporter": "python",
   "pygments_lexer": "ipython3",
   "version": "3.8.5"
  },
  "orig_nbformat": 4,
  "vscode": {
   "interpreter": {
    "hash": "db2be7246ef5b481715fd96e27284048e8fb63e687aca2cd4b31e376ec6a4c69"
   }
  }
 },
 "nbformat": 4,
 "nbformat_minor": 2
}
