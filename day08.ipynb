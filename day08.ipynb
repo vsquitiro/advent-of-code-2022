{
 "cells": [
  {
   "cell_type": "code",
   "execution_count": 10,
   "metadata": {},
   "outputs": [
    {
     "name": "stdout",
     "output_type": "stream",
     "text": [
      "1814\n"
     ]
    }
   ],
   "source": [
    "import os\n",
    "\n",
    "cwd = os.getcwd()\n",
    "file = cwd + '/inputs/input08.txt'\n",
    "\n",
    "trees = open(file).read().splitlines()\n",
    "count = 0\n",
    "\n",
    "column_length = len(trees)\n",
    "row_length = len(trees[0])\n",
    "\n",
    "def visibility_check(column, row, height):\n",
    "  if visibility_west(column, row, height):\n",
    "    return True\n",
    "  if visibility_north(column, row, height):\n",
    "    return True\n",
    "  if visibility_east(column, row, height):\n",
    "    return True\n",
    "  if visibility_south(column, row, height):\n",
    "    return True\n",
    "  return False\n",
    "\n",
    "def visibility_west(column, row, height):\n",
    "  if row == 0:\n",
    "    return True\n",
    "  elif trees[column][row - 1] < height:\n",
    "    return visibility_west(column, row - 1, height)\n",
    "  else:\n",
    "    return False\n",
    "\n",
    "def visibility_north(column, row, height):\n",
    "  if column == 0:\n",
    "    return True\n",
    "  elif trees[column - 1][row] < height:\n",
    "    return visibility_north(column - 1, row, height)\n",
    "  else:\n",
    "    return False\n",
    "\n",
    "def visibility_east(column, row, height):\n",
    "  if row + 1 == row_length:\n",
    "    return True\n",
    "  elif trees[column][row + 1] < height:\n",
    "    return visibility_east(column, row + 1, height)\n",
    "  else:\n",
    "    return False\n",
    "\n",
    "def visibility_south(column, row, height):\n",
    "  if column + 1 == column_length:\n",
    "    return True\n",
    "  elif trees[column + 1][row] < height:\n",
    "    return visibility_south(column + 1, row, height)\n",
    "  else:\n",
    "    return False\n",
    "\n",
    "for i in range(column_length):\n",
    "  for j in range(row_length):\n",
    "    if visibility_check(i,j,trees[i][j]):\n",
    "      count += 1\n",
    "\n",
    "print(count)"
   ]
  },
  {
   "cell_type": "code",
   "execution_count": 14,
   "metadata": {},
   "outputs": [
    {
     "name": "stdout",
     "output_type": "stream",
     "text": [
      "55131\n"
     ]
    }
   ],
   "source": [
    "import os\n",
    "\n",
    "cwd = os.getcwd()\n",
    "file = cwd + '/inputs/input08.txt'\n",
    "\n",
    "trees = open(file).read().splitlines()\n",
    "count = 0\n",
    "\n",
    "column_length = len(trees)\n",
    "row_length = len(trees[0])\n",
    "\n",
    "def visibility_score(column, row, height):\n",
    "  return visibility_west(column, row, height) * visibility_north(column, row, height) * visibility_east(column, row, height) * visibility_south(column, row, height)\n",
    "  \n",
    "\n",
    "def visibility_west(column, row, height):\n",
    "  if row == 0:\n",
    "    return 0\n",
    "  elif trees[column][row - 1] >= height:\n",
    "    return 1\n",
    "  else:\n",
    "    return 1 + visibility_west(column, row - 1, height)\n",
    "\n",
    "def visibility_north(column, row, height):\n",
    "  if column == 0:\n",
    "    return 0\n",
    "  elif trees[column - 1][row] >= height:\n",
    "    return 1\n",
    "  else:\n",
    "    return 1 + visibility_north(column - 1, row, height)\n",
    "\n",
    "def visibility_east(column, row, height):\n",
    "  if row + 1 == row_length:\n",
    "    return 0\n",
    "  elif trees[column][row + 1] >= height:\n",
    "    return 1\n",
    "  else:\n",
    "    return 1 + visibility_east(column, row + 1, height)\n",
    "\n",
    "def visibility_south(column, row, height):\n",
    "  if column + 1 == column_length:\n",
    "    return 0\n",
    "  elif trees[column + 1][row] >= height:\n",
    "    return 1\n",
    "  else:\n",
    "    return 1 + visibility_south(column + 1, row, height)\n",
    "\n",
    "solution = 0\n",
    "\n",
    "for i in range(column_length):\n",
    "  for j in range(row_length):\n",
    "    score = visibility_score(i,j,trees[i][j])\n",
    "    if score > solution:\n",
    "      solution = score\n",
    "      \n",
    "\n",
    "print(solution)"
   ]
  }
 ],
 "metadata": {
  "kernelspec": {
   "display_name": "Python 3.8.5 32-bit",
   "language": "python",
   "name": "python3"
  },
  "language_info": {
   "codemirror_mode": {
    "name": "ipython",
    "version": 3
   },
   "file_extension": ".py",
   "mimetype": "text/x-python",
   "name": "python",
   "nbconvert_exporter": "python",
   "pygments_lexer": "ipython3",
   "version": "3.8.5"
  },
  "orig_nbformat": 4,
  "vscode": {
   "interpreter": {
    "hash": "db2be7246ef5b481715fd96e27284048e8fb63e687aca2cd4b31e376ec6a4c69"
   }
  }
 },
 "nbformat": 4,
 "nbformat_minor": 2
}
