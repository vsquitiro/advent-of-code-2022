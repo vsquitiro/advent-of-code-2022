{
 "cells": [
  {
   "cell_type": "code",
   "execution_count": 20,
   "metadata": {},
   "outputs": [
    {
     "name": "stdout",
     "output_type": "stream",
     "text": [
      "1555642\n"
     ]
    }
   ],
   "source": [
    "import os\n",
    "\n",
    "cwd = os.getcwd()\n",
    "file = cwd + '/inputs/input07.txt'\n",
    "\n",
    "data = open(file).read().splitlines()\n",
    "\n",
    "filesystem = {}\n",
    "cwd = []\n",
    "\n",
    "def parse_commands(inputs, cwd=\"home\"):\n",
    "  if cwd == \"home\":\n",
    "    inputs.pop(0)\n",
    "  counts = [0]\n",
    "  while len(inputs) > 0:\n",
    "    input_parts = inputs.pop(0).split(\" \")\n",
    "    if input_parts[0] == '$':\n",
    "      if input_parts[1] == 'cd':\n",
    "        if input_parts[2] == '/':\n",
    "          if cwd != \"home\":\n",
    "            return { \"counts\": counts, \"inputs\": inputs, \"home\": True }\n",
    "        if input_parts[2] == '..':\n",
    "          return { \"counts\": counts, \"inputs\": inputs, \"home\": False }\n",
    "        else:\n",
    "          parse_results = parse_commands(inputs, input_parts[2])\n",
    "          inputs = parse_results[\"inputs\"]\n",
    "          counts[0] += parse_results[\"counts\"][0]\n",
    "          counts = counts + parse_results[\"counts\"]\n",
    "          if parse_results[\"home\"] and cwd != 'home':\n",
    "            return { \"counts\": counts, \"inputs\": inputs, \"home\": True }\n",
    "      else:\n",
    "        while len(inputs) > 0 and inputs[0][0] != \"$\":\n",
    "          file = inputs.pop(0).split(\" \")\n",
    "          if file[0] != 'dir':\n",
    "            counts[0] += int(file[0])\n",
    "  return { \"counts\": counts, \"inputs\": [], \"home\": True }\n",
    "          \n",
    "\n",
    "counts = parse_commands(data)[\"counts\"]\n",
    "solution = 0\n",
    "for count in counts:\n",
    "  if count <= 100000:\n",
    "    solution += count\n",
    "print(solution)"
   ]
  },
  {
   "cell_type": "code",
   "execution_count": 29,
   "metadata": {},
   "outputs": [
    {
     "name": "stdout",
     "output_type": "stream",
     "text": [
      "5974547\n"
     ]
    }
   ],
   "source": [
    "import os\n",
    "\n",
    "cwd = os.getcwd()\n",
    "file = cwd + '/inputs/input07.txt'\n",
    "\n",
    "data = open(file).read().splitlines()\n",
    "\n",
    "filesystem = {}\n",
    "cwd = []\n",
    "\n",
    "def parse_commands(inputs, cwd=\"home\"):\n",
    "  if cwd == \"home\":\n",
    "    inputs.pop(0)\n",
    "  counts = [0]\n",
    "  while len(inputs) > 0:\n",
    "    input_parts = inputs.pop(0).split(\" \")\n",
    "    if input_parts[0] == '$':\n",
    "      if input_parts[1] == 'cd':\n",
    "        if input_parts[2] == '/':\n",
    "          if cwd != \"home\":\n",
    "            return { \"counts\": counts, \"inputs\": inputs, \"home\": True }\n",
    "        if input_parts[2] == '..':\n",
    "          return { \"counts\": counts, \"inputs\": inputs, \"home\": False }\n",
    "        else:\n",
    "          parse_results = parse_commands(inputs, input_parts[2])\n",
    "          inputs = parse_results[\"inputs\"]\n",
    "          counts[0] += parse_results[\"counts\"][0]\n",
    "          counts = counts + parse_results[\"counts\"]\n",
    "          if parse_results[\"home\"] and cwd != 'home':\n",
    "            return { \"counts\": counts, \"inputs\": inputs, \"home\": True }\n",
    "      else:\n",
    "        while len(inputs) > 0 and inputs[0][0] != \"$\":\n",
    "          file = inputs.pop(0).split(\" \")\n",
    "          if file[0] != 'dir':\n",
    "            counts[0] += int(file[0])\n",
    "  return { \"counts\": counts, \"inputs\": [], \"home\": True }\n",
    "          \n",
    "\n",
    "counts = parse_commands(data)[\"counts\"]\n",
    "solution = 70000000\n",
    "space_required = 30000000 - (70000000 - int(counts[0]))\n",
    "for count in counts:\n",
    "  if int(count) > space_required and solution > int(count):\n",
    "    solution = count\n",
    "print(solution)\n"
   ]
  }
 ],
 "metadata": {
  "kernelspec": {
   "display_name": "Python 3.8.5 32-bit",
   "language": "python",
   "name": "python3"
  },
  "language_info": {
   "codemirror_mode": {
    "name": "ipython",
    "version": 3
   },
   "file_extension": ".py",
   "mimetype": "text/x-python",
   "name": "python",
   "nbconvert_exporter": "python",
   "pygments_lexer": "ipython3",
   "version": "3.8.5"
  },
  "orig_nbformat": 4,
  "vscode": {
   "interpreter": {
    "hash": "db2be7246ef5b481715fd96e27284048e8fb63e687aca2cd4b31e376ec6a4c69"
   }
  }
 },
 "nbformat": 4,
 "nbformat_minor": 2
}
