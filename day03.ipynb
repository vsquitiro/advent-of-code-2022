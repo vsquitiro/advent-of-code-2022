{
 "cells": [
  {
   "cell_type": "code",
   "execution_count": 24,
   "metadata": {},
   "outputs": [
    {
     "name": "stdout",
     "output_type": "stream",
     "text": [
      "Defaulting to user installation because normal site-packages is not writeable\n",
      "Requirement already satisfied: numpy in /Users/vinnie.squitiro/Library/Python/3.9/lib/python/site-packages (1.23.5)\n",
      "\u001b[33mWARNING: You are using pip version 21.2.4; however, version 22.3.1 is available.\n",
      "You should consider upgrading via the '/Applications/Xcode.app/Contents/Developer/usr/bin/python3 -m pip install --upgrade pip' command.\u001b[0m\n",
      "7716\n"
     ]
    }
   ],
   "source": [
    "import sys\n",
    "!{sys.executable} -m pip install numpy\n",
    "import numpy as np\n",
    "import os\n",
    "\n",
    "cwd = os.getcwd()\n",
    "file = cwd + '/inputs/input03.txt'\n",
    "\n",
    "def item_to_priority(item):\n",
    "  ascii_item = ord(item)\n",
    "  if ascii_item >= 97:\n",
    "    return ascii_item - 96\n",
    "  return ascii_item - 38\n",
    "\n",
    "with open(file, 'r') as text:\n",
    "  lines = text.readlines()\n",
    "\n",
    "  total_priority = 0\n",
    "\n",
    "  for line in lines:\n",
    "    container_size = int(len(line.strip())/2)\n",
    "    container1 = np.array(list(line.strip()[:container_size]))\n",
    "    container2 = np.array(list(line.strip()[container_size:]))\n",
    "    misplaced_item = np.intersect1d(container1,container2)[0]\n",
    "    total_priority += item_to_priority(misplaced_item)\n",
    "  print(total_priority)\n",
    "    "
   ]
  },
  {
   "cell_type": "code",
   "execution_count": 30,
   "metadata": {},
   "outputs": [
    {
     "name": "stdout",
     "output_type": "stream",
     "text": [
      "Defaulting to user installation because normal site-packages is not writeable\n",
      "Requirement already satisfied: numpy in /Users/vinnie.squitiro/Library/Python/3.9/lib/python/site-packages (1.23.5)\n",
      "\u001b[33mWARNING: You are using pip version 21.2.4; however, version 22.3.1 is available.\n",
      "You should consider upgrading via the '/Applications/Xcode.app/Contents/Developer/usr/bin/python3 -m pip install --upgrade pip' command.\u001b[0m\n",
      "2973\n"
     ]
    }
   ],
   "source": [
    "import sys\n",
    "!{sys.executable} -m pip install numpy\n",
    "import numpy as np\n",
    "import os\n",
    "\n",
    "cwd = os.getcwd()\n",
    "file = cwd + '/inputs/input03.txt'\n",
    "\n",
    "def item_to_priority(item):\n",
    "  ascii_item = ord(item)\n",
    "  if ascii_item >= 97:\n",
    "    return ascii_item - 96\n",
    "  return ascii_item - 38\n",
    "\n",
    "\n",
    "with open(file, 'r') as text:\n",
    "  lines = text.readlines()\n",
    "\n",
    "  total_priority = 0\n",
    "  group_rucks = []\n",
    "\n",
    "  for line in lines:\n",
    "    group_rucks.append(np.array(list(line.strip())))\n",
    "    if len(group_rucks) == 3:\n",
    "      group_badge = np.intersect1d(np.intersect1d(group_rucks[0],group_rucks[1]),group_rucks[2])[0]\n",
    "      total_priority += item_to_priority(group_badge)\n",
    "\n",
    "      group_rucks = []\n",
    "  print(total_priority)"
   ]
  }
 ],
 "metadata": {
  "kernelspec": {
   "display_name": "Python 3.9.6 64-bit",
   "language": "python",
   "name": "python3"
  },
  "language_info": {
   "codemirror_mode": {
    "name": "ipython",
    "version": 3
   },
   "file_extension": ".py",
   "mimetype": "text/x-python",
   "name": "python",
   "nbconvert_exporter": "python",
   "pygments_lexer": "ipython3",
   "version": "3.9.6"
  },
  "orig_nbformat": 4,
  "vscode": {
   "interpreter": {
    "hash": "31f2aee4e71d21fbe5cf8b01ff0e069b9275f58929596ceb00d14d90e3e16cd6"
   }
  }
 },
 "nbformat": 4,
 "nbformat_minor": 2
}
