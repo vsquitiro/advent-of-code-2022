{
 "cells": [
  {
   "cell_type": "code",
   "execution_count": 11,
   "metadata": {},
   "outputs": [
    {
     "name": "stdout",
     "output_type": "stream",
     "text": [
      "14360\n"
     ]
    }
   ],
   "source": [
    "import os\n",
    "\n",
    "cwd = os.getcwd()\n",
    "file = cwd + '/inputs/input10.txt'\n",
    "\n",
    "data = open(file).read().splitlines()\n",
    "\n",
    "cycle = 0\n",
    "cycle_complete = True\n",
    "command = []\n",
    "register = 1\n",
    "signal_strength = []\n",
    "\n",
    "while len(data) > 0:\n",
    "  cycle += 1\n",
    "  if (cycle + 20) % 40 == 0:\n",
    "    signal_strength.append(cycle*register)\n",
    "  if cycle_complete:\n",
    "    command = data.pop(0).strip().split(\" \")\n",
    "    if command[0] != \"noop\":\n",
    "      cycle_complete = False\n",
    "  else:\n",
    "    cycle_complete = True\n",
    "    register += int(command[1])\n",
    "\n",
    "solution = 0\n",
    "for i in range(6):\n",
    "  solution += signal_strength[i]\n",
    "\n",
    "print(solution)"
   ]
  },
  {
   "cell_type": "code",
   "execution_count": 31,
   "metadata": {},
   "outputs": [
    {
     "name": "stdout",
     "output_type": "stream",
     "text": [
      "###...##..#..#..##..####.###..####.####.\n",
      "#..#.#..#.#.#..#..#.#....#..#.#.......#.\n",
      "###..#....##...#..#.###..#..#.###....#..\n",
      "#..#.#.##.#.#..####.#....###..#.....#...\n",
      "#..#.#..#.#.#..#..#.#....#.#..#....#....\n",
      "###...###.#..#.#..#.####.#..#.####.####.\n"
     ]
    }
   ],
   "source": [
    "import os\n",
    "\n",
    "cwd = os.getcwd()\n",
    "file = cwd + '/inputs/input10.txt'\n",
    "\n",
    "data = open(file).read().splitlines()\n",
    "\n",
    "cycle = 0\n",
    "cycle_complete = True\n",
    "command = ['noop']\n",
    "register = 1\n",
    "pixels = [['_']*40,['_']*40,['_']*40,['_']*40,['_']*40,['_']*40]\n",
    "\n",
    "while len(data) > 0:\n",
    "  y = int(cycle/40)\n",
    "  x = cycle % 40\n",
    "  if register - 1 <= x and register + 1 >= x:\n",
    "    pixels[y][x] = \"#\" \n",
    "  else:\n",
    "    pixels[y][x] = \".\"\n",
    "  if cycle_complete:\n",
    "    command = data.pop(0).strip().split(\" \")\n",
    "    if command[0] != \"noop\":\n",
    "      cycle_complete = False\n",
    "  else:\n",
    "    cycle_complete = True\n",
    "    register += int(command[1])\n",
    "  cycle += 1\n",
    "\n",
    "for row in pixels:\n",
    "  line = ''\n",
    "  for c in row:\n",
    "    line += c\n",
    "  print(line)\n"
   ]
  }
 ],
 "metadata": {
  "kernelspec": {
   "display_name": "Python 3.8.5 32-bit",
   "language": "python",
   "name": "python3"
  },
  "language_info": {
   "codemirror_mode": {
    "name": "ipython",
    "version": 3
   },
   "file_extension": ".py",
   "mimetype": "text/x-python",
   "name": "python",
   "nbconvert_exporter": "python",
   "pygments_lexer": "ipython3",
   "version": "3.8.5"
  },
  "orig_nbformat": 4,
  "vscode": {
   "interpreter": {
    "hash": "db2be7246ef5b481715fd96e27284048e8fb63e687aca2cd4b31e376ec6a4c69"
   }
  }
 },
 "nbformat": 4,
 "nbformat_minor": 2
}
