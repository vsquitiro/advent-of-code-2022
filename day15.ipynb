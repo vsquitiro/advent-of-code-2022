{
 "cells": [
  {
   "cell_type": "code",
   "execution_count": 31,
   "metadata": {},
   "outputs": [
    {
     "name": "stdout",
     "output_type": "stream",
     "text": [
      "4879972\n"
     ]
    }
   ],
   "source": [
    "import os\n",
    "from collections import defaultdict\n",
    "\n",
    "cwd = os.getcwd()\n",
    "file = cwd + '/inputs/input15.txt'\n",
    "\n",
    "data = open(file).read().splitlines()\n",
    "\n",
    "readings = []\n",
    "row = 2000000\n",
    "unavailable_coords = set({})\n",
    "claimed_coords = set({})\n",
    "\n",
    "def pull_coordinates(string):\n",
    "  coordinate_string = string[string.index('x'):]\n",
    "  split_x_and_y = coordinate_string.split(', ')\n",
    "  return { \"x\": int(split_x_and_y[0][2:]), \"y\": int(split_x_and_y[1][2:])}\n",
    "\n",
    "def parse_line(line):\n",
    "  split_sensor_and_beacon = line.split(':')\n",
    "  readings.append({\"sensor\": pull_coordinates(split_sensor_and_beacon[0]), \"beacon\": pull_coordinates(split_sensor_and_beacon[1])})\n",
    "\n",
    "\n",
    "def parse_data(data):\n",
    "  for line in data:\n",
    "    parse_line(line)\n",
    "\n",
    "def add_coords(reading):\n",
    "  sensor = reading[\"sensor\"]\n",
    "  beacon = reading[\"beacon\"]\n",
    "  beacon_distance = abs(sensor[\"x\"] - beacon[\"x\"]) + abs(sensor[\"y\"] - beacon[\"y\"])\n",
    "  row_distance_y = abs(sensor[\"y\"] - row)\n",
    "  row_distance_x = beacon_distance - row_distance_y\n",
    "  coord_count = 2 * (row_distance_x) + 1\n",
    "  row_start = sensor[\"x\"] - row_distance_x\n",
    "  row_end = sensor[\"x\"] + row_distance_x\n",
    "  for x in range(row_end - row_start + 1):\n",
    "    unavailable_coords.add(row_start + x)\n",
    "  if sensor[\"y\"] == row:\n",
    "    claimed_coords.add(sensor[\"x\"])\n",
    "  if beacon[\"y\"] == row:\n",
    "    claimed_coords.add(beacon[\"x\"])\n",
    "\n",
    "def add_all_coords(readings):\n",
    "  for reading in readings:\n",
    "    add_coords(reading)\n",
    "\n",
    "parse_data(data)\n",
    "add_all_coords(readings)\n",
    "solution_coords = unavailable_coords - claimed_coords\n",
    "print(len(solution_coords))"
   ]
  }
 ],
 "metadata": {
  "kernelspec": {
   "display_name": "Python 3",
   "language": "python",
   "name": "python3"
  },
  "language_info": {
   "codemirror_mode": {
    "name": "ipython",
    "version": 3
   },
   "file_extension": ".py",
   "mimetype": "text/x-python",
   "name": "python",
   "nbconvert_exporter": "python",
   "pygments_lexer": "ipython3",
   "version": "3.9.6"
  },
  "orig_nbformat": 4,
  "vscode": {
   "interpreter": {
    "hash": "31f2aee4e71d21fbe5cf8b01ff0e069b9275f58929596ceb00d14d90e3e16cd6"
   }
  }
 },
 "nbformat": 4,
 "nbformat_minor": 2
}
