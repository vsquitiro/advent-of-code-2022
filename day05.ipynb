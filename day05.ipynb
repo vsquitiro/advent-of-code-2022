{
 "cells": [
  {
   "cell_type": "code",
   "execution_count": 35,
   "metadata": {},
   "outputs": [
    {
     "name": "stdout",
     "output_type": "stream",
     "text": [
      "FWSHSPJWM\n"
     ]
    }
   ],
   "source": [
    "import os\n",
    "\n",
    "cwd = os.getcwd()\n",
    "file = cwd + '/inputs/input05.txt'\n",
    "\n",
    "data = open(file).read().splitlines()\n",
    "\n",
    "crate_numbers = next(filter(lambda line: line[0] != '[', data), None)\n",
    "crate_numbers_idx = data.index(crate_numbers)\n",
    "crate_count = len(list(filter(lambda e: e != '', crate_numbers.split(' '))))\n",
    "\n",
    "crates = []\n",
    "for i in range(crate_count):\n",
    "  crates.append([])\n",
    "\n",
    "for i in range(crate_numbers_idx - 1, -1, -1):\n",
    "  for j in range(crate_count):\n",
    "    crate_content = data[i][1+j*4]\n",
    "    if crate_content != ' ':\n",
    "      crates[j].append(crate_content)\n",
    "\n",
    "for line in data[crate_numbers_idx + 2: ]:\n",
    "  instructions = line.split(' ')\n",
    "  move_count = int(instructions[1])\n",
    "  from_stack = int(instructions[3]) - 1\n",
    "  to_stack = int(instructions[5]) - 1\n",
    "  for i in range(move_count):\n",
    "    crates[to_stack].append(crates[from_stack].pop())\n",
    "  \n",
    "solution = ''\n",
    "for crate in crates:\n",
    "  solution += crate.pop()\n",
    "\n",
    "print(solution)\n"
   ]
  },
  {
   "cell_type": "code",
   "execution_count": 38,
   "metadata": {},
   "outputs": [
    {
     "name": "stdout",
     "output_type": "stream",
     "text": [
      "PWPWHGFZS\n"
     ]
    }
   ],
   "source": [
    "import os\n",
    "\n",
    "cwd = os.getcwd()\n",
    "file = cwd + '/inputs/input05.txt'\n",
    "\n",
    "data = open(file).read().splitlines()\n",
    "\n",
    "crate_numbers = next(filter(lambda line: line[0] != '[', data), None)\n",
    "crate_numbers_idx = data.index(crate_numbers)\n",
    "crate_count = len(list(filter(lambda e: e != '', crate_numbers.split(' '))))\n",
    "\n",
    "crates = []\n",
    "for i in range(crate_count):\n",
    "  crates.append([])\n",
    "\n",
    "for i in range(crate_numbers_idx - 1, -1, -1):\n",
    "  for j in range(crate_count):\n",
    "    crate_content = data[i][1+j*4]\n",
    "    if crate_content != ' ':\n",
    "      crates[j].append(crate_content)\n",
    "\n",
    "for line in data[crate_numbers_idx + 2: ]:\n",
    "  instructions = line.split(' ')\n",
    "  move_count = int(instructions[1])\n",
    "  from_stack = int(instructions[3]) - 1\n",
    "  to_stack = int(instructions[5]) - 1\n",
    "  moving_stack = []\n",
    "  for i in range(move_count):\n",
    "    moving_stack.append(crates[from_stack].pop())\n",
    "  for i in range(move_count):\n",
    "    crates[to_stack].append(moving_stack.pop())\n",
    "  \n",
    "solution = ''\n",
    "for crate in crates:\n",
    "  solution += crate.pop()\n",
    "\n",
    "print(solution)"
   ]
  }
 ],
 "metadata": {
  "kernelspec": {
   "display_name": "Python 3.8.5 32-bit",
   "language": "python",
   "name": "python3"
  },
  "language_info": {
   "codemirror_mode": {
    "name": "ipython",
    "version": 3
   },
   "file_extension": ".py",
   "mimetype": "text/x-python",
   "name": "python",
   "nbconvert_exporter": "python",
   "pygments_lexer": "ipython3",
   "version": "3.8.5"
  },
  "orig_nbformat": 4,
  "vscode": {
   "interpreter": {
    "hash": "db2be7246ef5b481715fd96e27284048e8fb63e687aca2cd4b31e376ec6a4c69"
   }
  }
 },
 "nbformat": 4,
 "nbformat_minor": 2
}
