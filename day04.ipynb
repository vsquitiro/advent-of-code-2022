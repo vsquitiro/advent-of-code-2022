{
 "cells": [
  {
   "cell_type": "code",
   "execution_count": 38,
   "metadata": {},
   "outputs": [
    {
     "name": "stdout",
     "output_type": "stream",
     "text": [
      "487\n"
     ]
    }
   ],
   "source": [
    "import os\n",
    "\n",
    "cwd = os.getcwd()\n",
    "file = cwd + '/inputs/input04.txt'\n",
    "\n",
    "with open(file, 'r') as text:\n",
    "  lines = text.readlines()\n",
    "\n",
    "  count = 0\n",
    "  lineCount = 0\n",
    "\n",
    "  for line in lines:\n",
    "    lineCount += 1\n",
    "    taskList = line.strip().split(',')\n",
    "    firstTasks = taskList[0].split('-')\n",
    "    secondTasks = taskList[1].split('-')\n",
    "\n",
    "    if int(firstTasks[0]) == int(secondTasks[0]) or int(firstTasks[1]) == int(secondTasks[1]):\n",
    "      count += 1\n",
    "    elif int(firstTasks[0]) <= int(secondTasks[0]) and int(firstTasks[1]) >= int(secondTasks[1]):\n",
    "      count += 1  \n",
    "    elif int(firstTasks[0]) >= int(secondTasks[0]) and int(firstTasks[1]) <= int(secondTasks[1]):\n",
    "      count += 1\n",
    "\n",
    "  print(count)\n",
    "  "
   ]
  },
  {
   "cell_type": "code",
   "execution_count": 40,
   "metadata": {},
   "outputs": [
    {
     "name": "stdout",
     "output_type": "stream",
     "text": [
      "849\n"
     ]
    }
   ],
   "source": [
    "import os\n",
    "\n",
    "cwd = os.getcwd()\n",
    "file = cwd + '/inputs/input04.txt'\n",
    "\n",
    "with open(file, 'r') as text:\n",
    "  lines = text.readlines()\n",
    "\n",
    "  count = 0\n",
    "  lineCount = 0\n",
    "\n",
    "  for line in lines:\n",
    "    lineCount += 1\n",
    "    taskList = line.strip().split(',')\n",
    "    firstTasks = taskList[0].split('-')\n",
    "    secondTasks = taskList[1].split('-')\n",
    "\n",
    "    if not (int(firstTasks[1]) < int(secondTasks[0]) or int(firstTasks[0]) > int(secondTasks[1])):\n",
    "      count += 1\n",
    "\n",
    "  print(count)"
   ]
  }
 ],
 "metadata": {
  "kernelspec": {
   "display_name": "Python 3.9.6 64-bit",
   "language": "python",
   "name": "python3"
  },
  "language_info": {
   "codemirror_mode": {
    "name": "ipython",
    "version": 3
   },
   "file_extension": ".py",
   "mimetype": "text/x-python",
   "name": "python",
   "nbconvert_exporter": "python",
   "pygments_lexer": "ipython3",
   "version": "3.9.6"
  },
  "orig_nbformat": 4,
  "vscode": {
   "interpreter": {
    "hash": "31f2aee4e71d21fbe5cf8b01ff0e069b9275f58929596ceb00d14d90e3e16cd6"
   }
  }
 },
 "nbformat": 4,
 "nbformat_minor": 2
}
