{
 "cells": [
  {
   "cell_type": "code",
   "execution_count": 22,
   "metadata": {},
   "outputs": [
    {
     "name": "stdout",
     "output_type": "stream",
     "text": [
      "1262\n"
     ]
    }
   ],
   "source": [
    "import os\n",
    "\n",
    "cwd = os.getcwd()\n",
    "file = cwd + '/inputs/input06.txt'\n",
    "\n",
    "data = open(file).read()\n",
    "\n",
    "packet_size = 4\n",
    "signal = []\n",
    "position = 0\n",
    "\n",
    "for i in range(packet_size):\n",
    "  signal.append(data[i])\n",
    "\n",
    "for i in range(packet_size, len(data)):\n",
    "  if len(set(signal)) == packet_size:\n",
    "    position = i\n",
    "    break\n",
    "  else:\n",
    "    signal.pop(0)\n",
    "    signal.append(data[i])\n",
    "\n",
    "print(position)"
   ]
  },
  {
   "cell_type": "code",
   "execution_count": 23,
   "metadata": {},
   "outputs": [
    {
     "name": "stdout",
     "output_type": "stream",
     "text": [
      "['t', 'd', 'q', 'h', 'w', 'p', 'f', 'm', 's', 'l', 'z', 'v', 'n', 'r']\n",
      "3444\n"
     ]
    }
   ],
   "source": [
    "import os\n",
    "\n",
    "cwd = os.getcwd()\n",
    "file = cwd + '/inputs/input06.txt'\n",
    "\n",
    "data = open(file).read()\n",
    "\n",
    "packet_size = 14\n",
    "signal = []\n",
    "position = 0\n",
    "\n",
    "for i in range(packet_size):\n",
    "  signal.append(data[i])\n",
    "\n",
    "for i in range(packet_size, len(data)):\n",
    "  if len(set(signal)) == packet_size:\n",
    "    position = i\n",
    "    break\n",
    "  else:\n",
    "    signal.pop(0)\n",
    "    signal.append(data[i])\n",
    "\n",
    "print(position)"
   ]
  }
 ],
 "metadata": {
  "kernelspec": {
   "display_name": "Python 3.9.6 64-bit",
   "language": "python",
   "name": "python3"
  },
  "language_info": {
   "codemirror_mode": {
    "name": "ipython",
    "version": 3
   },
   "file_extension": ".py",
   "mimetype": "text/x-python",
   "name": "python",
   "nbconvert_exporter": "python",
   "pygments_lexer": "ipython3",
   "version": "3.9.6"
  },
  "orig_nbformat": 4,
  "vscode": {
   "interpreter": {
    "hash": "31f2aee4e71d21fbe5cf8b01ff0e069b9275f58929596ceb00d14d90e3e16cd6"
   }
  }
 },
 "nbformat": 4,
 "nbformat_minor": 2
}
